{
  "nbformat": 4,
  "nbformat_minor": 0,
  "metadata": {
    "colab": {
      "name": "Pilas_1310.ipynb",
      "provenance": [],
      "collapsed_sections": [],
      "authorship_tag": "ABX9TyP6HG9eMZG0mDoeUvBamlRn",
      "include_colab_link": true
    },
    "kernelspec": {
      "name": "python3",
      "display_name": "Python 3"
    },
    "language_info": {
      "name": "python"
    }
  },
  "cells": [
    {
      "cell_type": "markdown",
      "metadata": {
        "id": "view-in-github",
        "colab_type": "text"
      },
      "source": [
        "<a href=\"https://colab.research.google.com/github/FernandoRivasPerez/Tarea9Pilas_BalanceoDeLlavesYParentesis/blob/main/Pilas_1310.ipynb\" target=\"_parent\"><img src=\"https://colab.research.google.com/assets/colab-badge.svg\" alt=\"Open In Colab\"/></a>"
      ]
    },
    {
      "cell_type": "code",
      "metadata": {
        "id": "VofwMj9jM88L"
      },
      "source": [
        "class StackADT:\n",
        "    def __init__( self ):\n",
        "        self.__data = list()\n",
        "    \n",
        "    #regresa true si la pila está vacía\n",
        "    def is_empty( self ):\n",
        "        return len( self.__data ) == 0\n",
        "\n",
        "    def get_length( self ):\n",
        "        return len( self.__data )\n",
        "\n",
        "    def pop( self ):\n",
        "        if self.is_empty():\n",
        "            print(\"Pila vacía, nada que sacar\")\n",
        "        else:\n",
        "            return self.__data.pop()\n",
        "    \n",
        "    def peek( self ):\n",
        "        if self.is_empty():\n",
        "            print(\"Pila vacía, nada que sacar\")\n",
        "        else:\n",
        "            return self.__data[ -1 ]\n",
        "    \n",
        "    def push( self , value ):\n",
        "        self.__data.append( value )\n",
        "\n",
        "    def to_string( self ):\n",
        "        for item in self.__data[::-1]:\n",
        "            print(f\"| {item} |\")"
      ],
      "execution_count": 21,
      "outputs": []
    },
    {
      "cell_type": "code",
      "metadata": {
        "colab": {
          "base_uri": "https://localhost:8080/"
        },
        "id": "VkpCDnJBQdjM",
        "outputId": "5f66dc58-5fff-476c-b57d-e29fd13af21d"
      },
      "source": [
        "pila = StackADT()\n",
        "print(\"Esta vacía? =\", pila.is_empty() )\n",
        "print(\"# elementos:\", pila.get_length() )\n",
        "pila.push(10)\n",
        "print(\"Esta vacía? =\", pila.is_empty() )\n",
        "print(\"# elementos:\", pila.get_length() )\n",
        "pila.push(20)\n",
        "pila.push(30)\n",
        "pila.push(40)\n",
        "pila.to_string()\n",
        "print(pila.pop() ) #40\n",
        "print(pila.peek()) #30\n",
        "pila.to_string()"
      ],
      "execution_count": 22,
      "outputs": [
        {
          "output_type": "stream",
          "name": "stdout",
          "text": [
            "Esta vacía? = True\n",
            "# elementos: 0\n",
            "Esta vacía? = False\n",
            "# elementos: 1\n",
            "| 40 |\n",
            "| 30 |\n",
            "| 20 |\n",
            "| 10 |\n",
            "40\n",
            "30\n",
            "| 30 |\n",
            "| 20 |\n",
            "| 10 |\n"
          ]
        }
      ]
    },
    {
      "cell_type": "markdown",
      "metadata": {
        "id": "JPdcPkfOyhoL"
      },
      "source": [
        "#Aplicacion de pilas, balanceo de llaves en programación"
      ]
    },
    {
      "cell_type": "code",
      "metadata": {
        "colab": {
          "base_uri": "https://localhost:8080/"
        },
        "id": "ynh5Iq4AzPX-",
        "outputId": "fb903f25-b03b-4372-9754-87420e405275"
      },
      "source": [
        "!cat prog.txt"
      ],
      "execution_count": 23,
      "outputs": [
        {
          "output_type": "stream",
          "name": "stdout",
          "text": [
            "#include <stdio.h>\r\n",
            "int main()\r\n",
            "{\r\n",
            "    int num, count, sum = 0;\r\n",
            "\r\n",
            "    printf(\"Enter a positive integer: \");\r\n",
            "    scanf(\"%d\", &num);\r\n",
            "\r\n",
            "    // for loop terminates when num is less than count\r\n",
            "    for(count = 1; count <= num; ++count)\r\n",
            "    {\r\n",
            "        sum += count;\r\n",
            "    }\r\n",
            "    }}}}}}}}}\r\n",
            "    printf(\"Sum = %d\", sum);\r\n",
            "\r\n",
            "    return 0;\r\n",
            "}"
          ]
        }
      ]
    },
    {
      "cell_type": "code",
      "metadata": {
        "colab": {
          "base_uri": "https://localhost:8080/"
        },
        "id": "naPKIcOxzwCs",
        "outputId": "b91a88fd-5074-4f44-f30e-921d97864cf4"
      },
      "source": [
        "entrada = open('prog.txt' , 'rt')\n",
        "codigo = entrada.read()\n",
        "#print( codigo )\n",
        "pilaControl = StackADT()\n",
        "pilaControl.push(\"#\") #Caracter de pila vacía\n",
        "\n",
        "for letra in codigo:\n",
        "    #print(f\"--> { letra } <--\")\n",
        "    if letra == '{': # regla 1\n",
        "        pilaControl.push(\"{\")\n",
        "    elif letra == '}': # regla 2\n",
        "        basura = pilaControl.pop()\n",
        "    else:\n",
        "        pass\n",
        "\n",
        "# NOTA: este codigo aun no contempla desbalanceo de más llaves de cierre\n",
        "if pilaControl.peek() == '#':\n",
        "    print(\"El código proporcionado está correctamente balanceado\")\n",
        "else:\n",
        "    print(\"El código no está balanceado en llaves { y } \")"
      ],
      "execution_count": 24,
      "outputs": [
        {
          "output_type": "stream",
          "name": "stdout",
          "text": [
            "Pila vacía, nada que sacar\n",
            "Pila vacía, nada que sacar\n",
            "Pila vacía, nada que sacar\n",
            "Pila vacía, nada que sacar\n",
            "Pila vacía, nada que sacar\n",
            "Pila vacía, nada que sacar\n",
            "Pila vacía, nada que sacar\n",
            "Pila vacía, nada que sacar\n",
            "Pila vacía, nada que sacar\n",
            "El código no está balanceado en llaves { y } \n"
          ]
        }
      ]
    },
    {
      "cell_type": "code",
      "metadata": {
        "colab": {
          "base_uri": "https://localhost:8080/"
        },
        "id": "e1PPuPzlRbHP",
        "outputId": "d94f2aee-386a-45a0-90bc-a27701f19b55"
      },
      "source": [
        "entrada = open('prog.txt' , 'rt')\n",
        "codigo = entrada.read()\n",
        "#print( codigo )\n",
        "pilaControl = StackADT()\n",
        "pilaControl.push(\"#\") #Caracter de pila vacía\n",
        "parar = False\n",
        "for letra in codigo:\n",
        "    #print(f\"--> { letra } <--\")\n",
        "    if letra == '{': # regla 1\n",
        "        pilaControl.push(\"{\")\n",
        "    elif pilaControl.is_empty():\n",
        "        parar = True\n",
        "    elif letra == '}': # regla 2\n",
        "        basura = pilaControl.pop()\n",
        "    else:\n",
        "        pass\n",
        "\n",
        "# NOTA: este codigo aun no contempla desbalanceo de más llaves de cierre\n",
        "if pilaControl.peek() == '#':\n",
        "    print(\"El código está correctamente balanceado en llaves { y } \")\n",
        "else:\n",
        "    print(\"El código no está balanceado en llaves { y } \")\n"
      ],
      "execution_count": 29,
      "outputs": [
        {
          "output_type": "stream",
          "name": "stdout",
          "text": [
            "Pila vacía, nada que sacar\n",
            "El código no está balanceado en llaves { y } \n"
          ]
        }
      ]
    },
    {
      "cell_type": "code",
      "metadata": {
        "colab": {
          "base_uri": "https://localhost:8080/"
        },
        "id": "GJDzcVIEUFTI",
        "outputId": "ef595634-82e7-4117-c51a-a3c83bc6ef7f"
      },
      "source": [
        "entrada = open('prog.txt' , 'rt')\n",
        "codigo = entrada.read()\n",
        "#print( codigo )\n",
        "pilaControl = StackADT()\n",
        "pilaControl.push(\"#\") #Caracter de pila vacía\n",
        "parar = False\n",
        "for letra in codigo:\n",
        "    #print(f\"--> { letra } <--\")\n",
        "    if letra == '(': # regla 1\n",
        "        pilaControl.push(\"(\")\n",
        "    elif pilaControl.is_empty():\n",
        "        parar = True\n",
        "    elif letra == ')': # regla 2\n",
        "        basura = pilaControl.pop()\n",
        "    else:\n",
        "        pass\n",
        "        \n",
        "if pilaControl.peek() == '#':\n",
        "    print(\"El código está correctamente balanceado en parentesis ( y ) \")\n",
        "else:\n",
        "    print(\"El código no está balanceado en parentesis ( y ) \")"
      ],
      "execution_count": 26,
      "outputs": [
        {
          "output_type": "stream",
          "name": "stdout",
          "text": [
            "El código está correctamente balanceado en parentesis ( y ) \n"
          ]
        }
      ]
    },
    {
      "cell_type": "markdown",
      "metadata": {
        "id": "fuBCasVl7KJg"
      },
      "source": [
        "# Aplicación de Pilas.\n",
        "## Estrategia de algoritmos BACKTRACKING"
      ]
    }
  ]
}